{
 "cells": [
  {
   "cell_type": "code",
   "execution_count": null,
   "id": "3456ac58",
   "metadata": {},
   "outputs": [
    {
     "name": "stdout",
     "output_type": "stream",
     "text": [
      "              DateTime       Open      High        Low      Close  Volume\n",
      "0  2000-01-03 09:32:00  148.25000  148.2500  148.06250  148.25000  149300\n",
      "1  2000-01-03 09:33:00  148.18750  148.2500  147.81250  147.81250   43100\n",
      "2  2000-01-03 09:34:00  148.25000  148.2500  147.68750  147.68750   20200\n",
      "3  2000-01-03 09:35:00  147.84375  148.2500  147.71875  147.81250   12500\n",
      "4  2000-01-03 09:36:00  147.93750  148.0000  147.87500  147.87500   26000\n",
      "5  2000-01-03 09:37:00  148.25000  148.2500  147.78125  147.93750   24000\n",
      "6  2000-01-03 09:38:00  147.81250  148.2500  147.68750  147.78125   28100\n",
      "7  2000-01-03 09:39:00  147.62500  147.6875  147.50000  147.50000    9100\n",
      "8  2000-01-03 09:40:00  147.59375  147.8125  147.31250  147.37500   29000\n",
      "9  2000-01-03 09:41:00  147.37500  147.3750  147.12500  147.12500    6200\n"
     ]
    }
   ],
   "source": [
    "import pandas as pd\n",
    "\n",
    "# 读取 CSV 文件（取消默认索引列）\n",
    "df = pd.read_csv('spy_all.csv', index_col=0)\n",
    "print(df.head(10))\n",
    "\n",
    "#将 DateTime 列解析为日期类型，并提取年份\n",
    "df['DateTime'] = pd.to_datetime(df['DateTime'])  # 确保转为 datetime 格式\n",
    "df['Year'] = df['DateTime'].dt.year\n",
    "\n",
    "# 筛选 2024 和 2025 年的数据\n",
    "latest_data = df[df['Year'].isin([2023, 2024, 2025])]\n",
    "\n",
    "# 保存到新文件（不包含额外生成的索引列）\n",
    "latest_data.to_csv('spy_latest.csv', index=False)"
   ]
  },
  {
   "cell_type": "code",
   "execution_count": null,
   "id": "a1c53849",
   "metadata": {},
   "outputs": [
    {
     "name": "stdout",
     "output_type": "stream",
     "text": [
      "              DateTime   Open   High    Low  Close\n",
      "0  2008-01-02 09:32:00  22.56  22.56  22.54  22.54\n",
      "1  2008-01-02 09:33:00  22.53  22.56  22.53  22.56\n",
      "2  2008-01-02 09:34:00  22.83  22.83  22.74  22.74\n",
      "3  2008-01-02 09:35:00  22.71  22.74  22.71  22.74\n",
      "4  2008-01-02 09:36:00  22.74  22.77  22.72  22.77\n",
      "5  2008-01-02 09:37:00  22.81  22.81  22.74  22.75\n",
      "6  2008-01-02 09:38:00  22.74  22.74  22.69  22.69\n",
      "7  2008-01-02 09:39:00  22.69  22.69  22.66  22.66\n",
      "8  2008-01-02 09:40:00  22.65  22.67  22.65  22.67\n",
      "9  2008-01-02 09:41:00  22.61  22.64  22.61  22.63\n"
     ]
    }
   ],
   "source": [
    "import pandas as pd\n",
    "\n",
    "# 读取 CSV 文件（取消默认索引列）\n",
    "df = pd.read_csv('vix_all.csv', index_col=0)\n",
    "\n",
    "print(df.head(10))\n",
    "\n",
    "#将 DateTime 列解析为日期类型，并提取年份\n",
    "df['DateTime'] = pd.to_datetime(df['DateTime'])  # 确保转为 datetime 格式\n",
    "df['Year'] = df['DateTime'].dt.year\n",
    "\n",
    "# 筛选 2024 和 2025 年的数据\n",
    "latest_data = df[df['Year'].isin([2023, 2024, 2025])]\n",
    "\n",
    "# 保存到新文件（不包含额外生成的索引列）\n",
    "latest_data.to_csv('vix_latest.csv', index=False)"
   ]
  },
  {
   "cell_type": "code",
   "execution_count": null,
   "id": "11d9056d",
   "metadata": {},
   "outputs": [],
   "source": []
  }
 ],
 "metadata": {
  "kernelspec": {
   "display_name": "futu",
   "language": "python",
   "name": "python3"
  },
  "language_info": {
   "codemirror_mode": {
    "name": "ipython",
    "version": 3
   },
   "file_extension": ".py",
   "mimetype": "text/x-python",
   "name": "python",
   "nbconvert_exporter": "python",
   "pygments_lexer": "ipython3",
   "version": "3.12.8"
  }
 },
 "nbformat": 4,
 "nbformat_minor": 5
}
