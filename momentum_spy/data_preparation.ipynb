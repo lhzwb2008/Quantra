{
 "cells": [
  {
   "cell_type": "markdown",
   "metadata": {},
   "source": [
    "# SPY Data Preparation\n",
    "\n",
    "This notebook filters SPY data to include only regular market hours (9:30 AM - 4:00 PM) and sets the opening price to the 9:30 AM price and the closing price to the 4:00 PM price."
   ]
  },
  {
   "cell_type": "code",
   "execution_count": null,
   "metadata": {},
   "outputs": [],
   "source": [
    "import pandas as pd\n",
    "from datetime import time"
   ]
  },
  {
   "cell_type": "code",
   "execution_count": null,
   "metadata": {},
   "outputs": [],
   "source": [
    "# Read the CSV file\n",
    "df = pd.read_csv('spy_all.csv')\n",
    "\n",
    "# Convert DateTime to datetime format\n",
    "df['DateTime'] = pd.to_datetime(df['DateTime'])\n",
    "\n",
    "# Extract date and time components\n",
    "df['Date'] = df['DateTime'].dt.date\n",
    "df['Time'] = df['DateTime'].dt.time\n",
    "\n",
    "# Display the first few rows to understand the data structure\n",
    "print(\"Original data sample:\")\n",
    "print(df.head())\n",
    "print(f\"Total rows in original data: {len(df)}\")"
   ]
  },
  {
   "cell_type": "code",
   "execution_count": null,
   "metadata": {},
   "outputs": [],
   "source": [
    "# Filter data to include only regular market hours (9:30 AM - 4:00 PM)\n",
    "market_open = time(9, 30)\n",
    "market_close = time(16, 0)\n",
    "\n",
    "# Create a mask for regular market hours\n",
    "market_hours_mask = (df['Time'] >= market_open) & (df['Time'] <= market_close)\n",
    "df_market_hours = df[market_hours_mask].copy()\n",
    "\n",
    "print(f\"Rows after filtering for market hours: {len(df_market_hours)}\")"
   ]
  },
  {
   "cell_type": "code",
   "execution_count": null,
   "metadata": {},
   "outputs": [],
   "source": [
    "# Group by date to find the first (9:30 AM) and last (4:00 PM) data points for each day\n",
    "# For each day, get the first row (9:30 AM opening price)\n",
    "opening_prices = df_market_hours.groupby('Date').first().reset_index()\n",
    "opening_prices = opening_prices[['Date', 'Open']].rename(columns={'Open': 'DayOpen'})\n",
    "\n",
    "# For each day, get the last row (4:00 PM closing price)\n",
    "closing_prices = df_market_hours.groupby('Date').last().reset_index()\n",
    "closing_prices = closing_prices[['Date', 'Close']].rename(columns={'Close': 'DayClose'})\n",
    "\n",
    "# Merge the opening and closing prices back to the main dataframe\n",
    "df_market_hours = pd.merge(df_market_hours, opening_prices, on='Date', how='left')\n",
    "df_market_hours = pd.merge(df_market_hours, closing_prices, on='Date', how='left')\n",
    "\n",
    "# Display the first few rows with the new columns\n",
    "print(\"Data with day open and close prices:\")\n",
    "print(df_market_hours.head())"
   ]
  },
  {
   "cell_type": "code",
   "execution_count": null,
   "metadata": {},
   "outputs": [],
   "source": [
    "# Create a new dataframe with the filtered data\n",
    "filtered_df = df_market_hours[['DateTime', 'Open', 'High', 'Low', 'Close', 'Volume', 'Year', 'DayOpen', 'DayClose']].copy()\n",
    "\n",
    "# Save the filtered data to a new CSV file\n",
    "filtered_df.to_csv('spy_market_hours.csv', index=False)\n",
    "\n",
    "print(\"Filtered data saved to 'spy_market_hours.csv'\")"
   ]
  },
  {
   "cell_type": "markdown",
   "metadata": {},
   "source": [
    "## Data Statistics"
   ]
  },
  {
   "cell_type": "code",
   "execution_count": null,
   "metadata": {},
   "outputs": [],
   "source": [
    "# Display some statistics about the filtered data\n",
    "print(f\"Total number of trading days: {filtered_df['DateTime'].dt.date.nunique()}\")\n",
    "print(f\"Date range: {filtered_df['DateTime'].min().date()} to {filtered_df['DateTime'].max().date()}\")\n",
    "print(f\"Average number of data points per day: {len(filtered_df) / filtered_df['DateTime'].dt.date.nunique():.2f}\")"
   ]
  },
  {
   "cell_type": "code",
   "execution_count": null,
   "metadata": {},
   "outputs": [],
   "source": [
    "# Check if there are any days with missing 9:30 AM or 4:00 PM data points\n",
    "market_open_time = time(9, 30)\n",
    "market_close_time = time(16, 0)\n",
    "\n",
    "# Group by date and check if each day has data at 9:30 AM and 4:00 PM\n",
    "day_times = df_market_hours.groupby('Date')['Time'].apply(list).reset_index()\n",
    "days_missing_open = []\n",
    "days_missing_close = []\n",
    "\n",
    "for _, row in day_times.iterrows():\n",
    "    if market_open_time not in row['Time']:\n",
    "        days_missing_open.append(row['Date'])\n",
    "    if market_close_time not in row['Time']:\n",
    "        days_missing_close.append(row['Date'])\n",
    "\n",
    "print(f\"Number of days missing 9:30 AM data: {len(days_missing_open)}\")\n",
    "print(f\"Number of days missing 4:00 PM data: {len(days_missing_close)}\")\n",
    "\n",
    "if days_missing_open:\n",
    "    print(\"Sample of days missing 9:30 AM data:\")\n",
    "    print(days_missing_open[:5])\n",
    "    \n",
    "if days_missing_close:\n",
    "    print(\"Sample of days missing 4:00 PM data:\")\n",
    "    print(days_missing_close[:5])"
   ]
  }
 ],
 "metadata": {
  "kernelspec": {
   "display_name": "Python 3",
   "language": "python",
   "name": "python3"
  },
  "language_info": {
   "codemirror_mode": {
    "name": "ipython",
    "version": 3
   },
   "file_extension": ".py",
   "mimetype": "text/x-python",
   "name": "python",
   "nbconvert_exporter": "python",
   "pygments_lexer": "ipython3",
   "version": "3.8.5"
  }
 },
 "nbformat": 4,
 "nbformat_minor": 4
}
